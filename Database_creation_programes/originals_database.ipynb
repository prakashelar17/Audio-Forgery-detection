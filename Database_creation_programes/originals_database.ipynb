{
 "cells": [
  {
   "cell_type": "code",
   "execution_count": 1,
   "metadata": {},
   "outputs": [],
   "source": [
    "import librosa\n",
    "import librosa.display\n",
    "import IPython.display as  ipd\n",
    "import matplotlib.pyplot as plt\n",
    "import numpy as np\n",
    "import os\n",
    "import soundfile as sf"
   ]
  },
  {
   "cell_type": "code",
   "execution_count": 2,
   "metadata": {},
   "outputs": [],
   "source": [
    "def padding(signal):\n",
    "    mean_signal_length=11000\n",
    "    s_len = len(signal)\n",
    "    # pad the signals to have same size if lesser than required\n",
    "    # else slice them\n",
    "    if s_len < mean_signal_length:\n",
    "        pad_len = mean_signal_length - s_len\n",
    "        pad_rem = pad_len % 2\n",
    "        pad_len //= 2\n",
    "        signal = np.pad(signal, (pad_len, pad_len + pad_rem),\n",
    "                        'constant', constant_values=0)\n",
    "    else:\n",
    "        pad_len = s_len - mean_signal_length\n",
    "        pad_len //= 2\n",
    "        signal = signal[pad_len:pad_len + mean_signal_length]\n",
    "    return signal"
   ]
  },
  {
   "cell_type": "code",
   "execution_count": 3,
   "metadata": {},
   "outputs": [],
   "source": [
    "def original_database(dataset_path1,save_path):\n",
    "   \n",
    "    signal1,sr=librosa.load(dataset_path1)\n",
    "    signal2=padding(signal1)\n",
    "   \n",
    "    sf.write(save_path ,signal2, sr)\n",
    "    \n",
    "    return signal2"
   ]
  },
  {
   "cell_type": "code",
   "execution_count": 6,
   "metadata": {},
   "outputs": [],
   "source": [
    "for i in range(0,5):\n",
    "    a=[\"george\",\"jackson\",\"lucas\",\"nicolas\",\"theo\"]\n",
    "    for j in range(0,50):\n",
    "        one_file=r\"F:\\Prakash\\recordings\\{0}_{2}_{1}.wav\".format(i,j,a[i])\n",
    "        save_path=r\"F:\\Prakash\\all_orignal\\{0}_{2}_{1}new.wav\".format(i,j,a[i])\n",
    "        one_new=copy_database(one_file,save_path)"
   ]
  }
 ],
 "metadata": {
  "kernelspec": {
   "display_name": "Python 3",
   "language": "python",
   "name": "python3"
  },
  "language_info": {
   "codemirror_mode": {
    "name": "ipython",
    "version": 3
   },
   "file_extension": ".py",
   "mimetype": "text/x-python",
   "name": "python",
   "nbconvert_exporter": "python",
   "pygments_lexer": "ipython3",
   "version": "3.8.3"
  }
 },
 "nbformat": 4,
 "nbformat_minor": 4
}

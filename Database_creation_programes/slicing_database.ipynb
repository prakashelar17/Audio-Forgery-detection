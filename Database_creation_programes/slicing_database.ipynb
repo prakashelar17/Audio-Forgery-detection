{
 "cells": [
  {
   "cell_type": "code",
   "execution_count": 35,
   "metadata": {},
   "outputs": [],
   "source": [
    "import librosa\n",
    "import librosa.display\n",
    "import IPython.display as  ipd\n",
    "import matplotlib.pyplot as plt\n",
    "import numpy as np\n",
    "import os\n",
    "import soundfile as sf"
   ]
  },
  {
   "cell_type": "code",
   "execution_count": 36,
   "metadata": {},
   "outputs": [],
   "source": [
    "def padding(signal):\n",
    "    mean_signal_length=11000\n",
    "    s_len = len(signal)\n",
    "    # pad the signals to have same size if lesser than required\n",
    "    # else slice them\n",
    "    if s_len < mean_signal_length:\n",
    "        pad_len = mean_signal_length - s_len\n",
    "        pad_rem = pad_len % 2\n",
    "        pad_len //= 2\n",
    "        signal = np.pad(signal, (pad_len, pad_len + pad_rem),\n",
    "                        'constant', constant_values=0)\n",
    "    else:\n",
    "        pad_len = s_len - mean_signal_length\n",
    "        pad_len //= 2\n",
    "        signal = signal[pad_len:pad_len + mean_signal_length]\n",
    "    return signal"
   ]
  },
  {
   "cell_type": "code",
   "execution_count": 37,
   "metadata": {},
   "outputs": [],
   "source": [
    "def slicing_database(dataset_path1,dataset_path2,dataset_save_to_path):\n",
    "   \n",
    "    signal1,sr=librosa.load(dataset_path1)\n",
    "    signal2,sr=librosa.load(dataset_path2)\n",
    "    signalP1=padding(signal1)\n",
    "    signalP2=padding(signal2)\n",
    "    copy_frame= signalP2[0:(len(signalP2)//4)]\n",
    "    \n",
    "    signalP1[len(signalP1)//2:(3*len(signalP1)//4)]=copy_frame\n",
    "    sf.write(dataset_save_to_path ,signalP1, sr)"
   ]
  },
  {
   "cell_type": "code",
   "execution_count": 40,
   "metadata": {},
   "outputs": [],
   "source": [
    "for i in range(0,5):\n",
    "    #a=[\"george\",\"jackson\",\"lucas\",\"nicolas\",\"theo\",\"yweweler\"]\n",
    "    two_file=r\"F:\\Prakash\\recordings\\0_jackson_0.wav\"\n",
    "    for j in range(0,50):\n",
    "        one_file=r\"F:\\Prakash\\recordings\\{0}_george_{1}.wav\".format(i,j)\n",
    "        save_to_file=r\"F:\\Prakash\\slicing_tampered\\{0}_george_{1}new.wav\".format(i,j)\n",
    "        one_new=slicing_database(one_file,two_file,save_to_file)"
   ]
  },
  {
   "cell_type": "code",
   "execution_count": 48,
   "metadata": {},
   "outputs": [],
   "source": [
    "one_test=r\"F:\\Prakash\\recordings\\0_jackson_0.wav\"\n",
    "two_test=r\"F:\\Prakash\\slicing_tampered\\1_george_1new.wav\"\n",
    "three_test=r\"F:\\Prakash\\recordings\\1_george_1.wav\""
   ]
  },
  {
   "cell_type": "code",
   "execution_count": null,
   "metadata": {},
   "outputs": [],
   "source": []
  }
 ],
 "metadata": {
  "kernelspec": {
   "display_name": "Python 3",
   "language": "python",
   "name": "python3"
  },
  "language_info": {
   "codemirror_mode": {
    "name": "ipython",
    "version": 3
   },
   "file_extension": ".py",
   "mimetype": "text/x-python",
   "name": "python",
   "nbconvert_exporter": "python",
   "pygments_lexer": "ipython3",
   "version": "3.8.3"
  }
 },
 "nbformat": 4,
 "nbformat_minor": 4
}
